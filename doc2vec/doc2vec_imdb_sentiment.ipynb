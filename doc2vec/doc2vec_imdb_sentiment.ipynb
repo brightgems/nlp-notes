{
 "cells": [
  {
   "cell_type": "markdown",
   "metadata": {},
   "source": [
    "# 基于gensim的doc2vec模型执行情感分类任务\n",
    "*数据集:* IMDB"
   ]
  },
  {
   "cell_type": "code",
   "execution_count": 1,
   "metadata": {},
   "outputs": [
    {
     "name": "stderr",
     "output_type": "stream",
     "text": [
      "D:\\Python27\\envs\\py36\\lib\\site-packages\\gensim\\utils.py:1212: UserWarning: detected Windows; aliasing chunkize to chunkize_serial\n",
      "  warnings.warn(\"detected Windows; aliasing chunkize to chunkize_serial\")\n"
     ]
    }
   ],
   "source": [
    "import sys\n",
    "import numpy as np\n",
    "import gensim\n",
    "import glob\n",
    "import os\n",
    "import nltk\n",
    "import glob\n",
    "\n",
    "from gensim.models.doc2vec import Doc2Vec,TaggedDocument, LabeledSentence\n",
    "from gensim.utils import simple_preprocess\n",
    "from sklearn.model_selection import train_test_split\n",
    "\n",
    "LabeledSentence = gensim.models.doc2vec.LabeledSentence\n"
   ]
  },
  {
   "cell_type": "code",
   "execution_count": 90,
   "metadata": {},
   "outputs": [],
   "source": [
    "##读取并预处理数据\n",
    "def get_dataset():\n",
    "    #读取数据\n",
    "    root_dir = \"D:/sourcecode/ai-dataset/aclImdb/%s/%s\"\n",
    "\n",
    "    def read_dataset(source, labels):\n",
    "        labeled_docs = []\n",
    "        for label in labels:\n",
    "            filepath = root_dir % (source, label)\n",
    "            files = glob.glob(os.path.join(filepath, '*.txt'))\n",
    "            docs = []\n",
    "            for fn in files[:2000]:\n",
    "                with open(fn, 'r', encoding='utf-8') as fin:\n",
    "                    doc = fin.read()\n",
    "                    justfn = os.path.split(fn)[-1].split('.')[0]\n",
    "                    doc_id, score = justfn.split('_')\n",
    "                    docs.append(TaggedDocument(nltk.tokenize.word_tokenize(doc), ['%s_%s_%s' % (source,label,doc_id)]))\n",
    "            labeled_docs.append(docs)\n",
    "        return labeled_docs\n",
    "    labels = ['pos','neg','unsup']\n",
    "    pos_reviews, neg_reviews, unsup_reviews = read_dataset('train', labels)\n",
    "    #使用1表示正面情感，0为负面\n",
    "    x_train = pos_reviews + neg_reviews\n",
    "    y_train = np.concatenate((np.ones(len(pos_reviews)), np.zeros(len(neg_reviews))))\n",
    "    #读取测试集\n",
    "    pos_reviews, neg_reviews = read_dataset('test', ['pos','neg'])\n",
    "    x_test = pos_reviews + neg_reviews\n",
    "    y_test = np.concatenate((np.ones(len(pos_reviews)), np.zeros(len(neg_reviews))))\n",
    "    del pos_reviews, neg_reviews\n",
    "    return x_train,x_test,unsup_reviews,y_train, y_test\n"
   ]
  },
  {
   "cell_type": "code",
   "execution_count": 80,
   "metadata": {},
   "outputs": [],
   "source": [
    "##对数据进行训练\n",
    "from random import shuffle\n",
    "\n",
    "def train(x_train,x_test,unsup_reviews,size = 100,epoch_num=10):\n",
    "    \n",
    "    #使用所有的数据建立词典\n",
    "    all_reviews = x_train + x_test + unsup_reviews\n",
    "    all_train_reviews = x_train.copy()\n",
    "\n",
    "    #实例DM和DBOW模型\n",
    "    model_dm = gensim.models.Doc2Vec(min_count=1, window=5, vector_size=size, sample=1e-3, negative=5, workers=8)\n",
    "    model_dbow = gensim.models.Doc2Vec(min_count=1, window=10, vector_size=size, sample=1e-3, negative=5, dm=0, workers=8)\n",
    "\n",
    "    model_dm.build_vocab(all_reviews)\n",
    "    model_dbow.build_vocab(all_reviews)\n",
    "    print('total words#:%d'%model_dm.corpus_total_words)\n",
    "    #进行多次重复训练，每一次都需要对训练数据重新打乱，以提高精度\n",
    "    for i in range(epoch_num):\n",
    "#         shuffle(all_train_reviews)\n",
    "        model_dm.train(all_train_reviews,total_examples=model_dm.corpus_count, epochs=1)\n",
    "        model_dbow.train(all_train_reviews,total_examples=model_dbow.corpus_count,epochs=1)\n",
    "\n",
    "    #训练测试数据集\n",
    "    model_dm.train(x_test,total_examples=model_dm.corpus_count,epochs=1)\n",
    "    model_dbow.train(x_test,total_examples=model_dbow.corpus_count,epochs=1)\n",
    "\n",
    "    return model_dm,model_dbow\n"
   ]
  },
  {
   "cell_type": "code",
   "execution_count": 3,
   "metadata": {},
   "outputs": [],
   "source": [
    "##读取向量\n",
    "def getVecs(model, corpus, size):\n",
    "    vecs = [np.array(model.docvecs[z.tags[0]]).reshape((1, size)) for z in corpus]\n",
    "    return np.concatenate(vecs)\n"
   ]
  },
  {
   "cell_type": "code",
   "execution_count": 110,
   "metadata": {},
   "outputs": [],
   "source": [
    "##将训练完成的数据转换为vectors\n",
    "def get_vectors(model_dm,model_dbow):\n",
    "\n",
    "    #获取训练数据集的文档向量\n",
    "    train_vecs_dm = getVecs(model_dm, x_train, size)\n",
    "    train_vecs_dbow = getVecs(model_dbow, x_train, size)\n",
    "    train_vecs = np.hstack((train_vecs_dm, train_vecs_dbow))\n",
    "    #获取测试数据集的文档向量\n",
    "    test_vecs_dm = getVecs(model_dm, x_test, size)\n",
    "    test_vecs_dbow = getVecs(model_dbow, x_test, size)\n",
    "    test_vecs = np.hstack((test_vecs_dm, test_vecs_dbow))\n",
    "\n",
    "    return train_vecs_dm,test_vecs_dm\n"
   ]
  },
  {
   "cell_type": "code",
   "execution_count": 105,
   "metadata": {},
   "outputs": [],
   "source": [
    "##使用分类器对文本向量进行分类训练\n",
    "def Classifier(train_vecs,y_train,test_vecs, y_test):\n",
    "    #使用sklearn的SGD分类器\n",
    "    from sklearn.linear_model import LogisticRegression\n",
    "\n",
    "    lr = LogisticRegression()\n",
    "    lr.fit(train_vecs, y_train)\n",
    "\n",
    "    print('Test Accuracy: %.2f'%lr.score(test_vecs, y_test))\n",
    "\n",
    "    return lr\n"
   ]
  },
  {
   "cell_type": "code",
   "execution_count": 87,
   "metadata": {},
   "outputs": [],
   "source": [
    "##绘出ROC曲线，并计算AUC\n",
    "def ROC_curve(lr,y_test):\n",
    "    from sklearn.metrics import roc_curve, auc\n",
    "    import matplotlib.pyplot as plt\n",
    "\n",
    "    pred_probas = lr.predict_proba(test_vecs)[:,1]\n",
    "\n",
    "    fpr,tpr,_ = roc_curve(y_test, pred_probas)\n",
    "    roc_auc = auc(fpr,tpr)\n",
    "    plt.plot(fpr,tpr,label='auc = %.2f' %roc_auc)\n",
    "    plt.plot([0, 1], [0, 1], 'k--')\n",
    "    plt.xlim([0.0, 1.0])\n",
    "    plt.ylim([0.0, 1.05])\n",
    "    plt.legend()\n",
    "    plt.show()\n"
   ]
  },
  {
   "cell_type": "code",
   "execution_count": 91,
   "metadata": {},
   "outputs": [
    {
     "data": {
      "image/png": "[encoded data removed]",
      "text/plain": [
       "<Figure size 432x288 with 1 Axes>"
      ]
     },
     "metadata": {},
     "output_type": "display_data"
    }
   ],
   "source": [
    "import matplotlib.pyplot as plt\n",
    "plt.hist(y_test);\n",
    "plt.xticks([0,1]);\n",
    "plt.title('total docs#:%d'%len(test_vecs));\n"
   ]
  },
  {
   "cell_type": "code",
   "execution_count": 92,
   "metadata": {},
   "outputs": [
    {
     "name": "stdout",
     "output_type": "stream",
     "text": [
      "[['train_pos_0'], ['train_pos_10000'], ['train_pos_10001'], ['train_pos_10002'], ['train_pos_10003'], ['train_pos_10004'], ['train_pos_10005'], ['train_pos_10006'], ['train_pos_10007'], ['train_pos_10008']]\n"
     ]
    }
   ],
   "source": [
    "print([z.tags for z in x_train[:10]])\n"
   ]
  },
  {
   "cell_type": "code",
   "execution_count": 111,
   "metadata": {},
   "outputs": [
    {
     "name": "stdout",
     "output_type": "stream",
     "text": [
      "[['train_pos_0'], ['train_pos_10000'], ['train_pos_10001'], ['train_pos_10002'], ['train_pos_10003'], ['train_pos_10004'], ['train_pos_10005'], ['train_pos_10006'], ['train_pos_10007'], ['train_pos_10008']]\n",
      "total words#:2742572\n",
      "Test Accuracy: 0.50\n"
     ]
    },
    {
     "data": {
      "image/png": "[encoded data removed]",
      "text/plain": [
       "<Figure size 432x288 with 1 Axes>"
      ]
     },
     "metadata": {},
     "output_type": "display_data"
    }
   ],
   "source": [
    "%matplotlib inline\n",
    "##运行模块\n",
    "if __name__ == \"__main__\":\n",
    "    #设置向量维度和训练次数\n",
    "    size, epoch_num = 100, 40\n",
    "    #获取训练与测试数据及其类别标注\n",
    "    x_train,x_test,unsup_reviews,y_train, y_test = get_dataset()\n",
    "    print([z.tags for z in x_train[:10]])\n",
    "    #对数据进行训练，获得模型\n",
    "    model_dm,model_dbow = train(x_train,x_test,unsup_reviews,size,epoch_num)\n",
    "    #从模型中抽取文档相应的向量\n",
    "    train_vecs,test_vecs = get_vectors(model_dm,model_dbow)\n",
    "    #使用文章所转换的向量进行情感正负分类训练\n",
    "    lr=Classifier(train_vecs,y_train,test_vecs, y_test)\n",
    "    #画出ROC曲线\n",
    "    ROC_curve(lr,y_test)\n"
   ]
  },
  {
   "cell_type": "code",
   "execution_count": 109,
   "metadata": {},
   "outputs": [
    {
     "name": "stderr",
     "output_type": "stream",
     "text": [
      "D:\\Python27\\envs\\py36\\lib\\site-packages\\sklearn\\metrics\\classification.py:1137: UndefinedMetricWarning: F-score is ill-defined and being set to 0.0 due to no true samples.\n",
      "  'recall', 'true', average, warn_for)\n"
     ]
    },
    {
     "name": "stdout",
     "output_type": "stream",
     "text": [
      "Test Accuracy: 0.50\n"
     ]
    }
   ],
   "source": [
    "from sklearn.metrics import f1_score\n",
    "pred_y = lr.predict(test_vecs)\n",
    "f1_score(pred_y, y_test)\n",
    "lr=Classifier(train_vecs,y_train,test_vecs, y_test)"
   ]
  },
  {
   "cell_type": "code",
   "execution_count": 98,
   "metadata": {},
   "outputs": [
    {
     "data": {
      "text/plain": [
       "array([ 1.64163455e-01,  3.86242688e-01,  1.57523364e-01,  6.99698851e-02,\n",
       "        1.06845617e-01,  1.20848134e-01, -1.48925725e-02, -1.69116065e-01,\n",
       "        1.98309883e-01,  3.07757407e-02, -1.25744581e-01, -1.28544316e-01,\n",
       "        1.35369077e-01,  9.06429347e-03,  3.26235831e-01, -3.00434753e-02,\n",
       "        1.85262904e-01, -7.92576000e-02,  9.37581584e-02, -1.48358151e-01,\n",
       "        4.39111702e-02, -4.12193120e-01,  1.54139161e-01, -4.25212115e-01,\n",
       "        4.41485345e-01,  3.34115289e-02,  3.42638716e-02,  4.66842860e-01,\n",
       "        2.46335983e-01, -3.48420233e-01, -1.13515258e-01,  1.62411794e-01,\n",
       "        7.38749001e-03,  8.74557160e-03,  2.16825351e-01, -1.38794556e-01,\n",
       "        1.92210376e-01, -4.26972061e-02,  2.61127025e-01,  3.97164792e-01,\n",
       "        3.62905301e-02,  4.54772040e-02, -9.99554899e-03,  1.75031602e-01,\n",
       "       -4.12594676e-02,  3.16922277e-01, -1.22098215e-02, -1.36185270e-02,\n",
       "        4.05624390e-01, -8.87367502e-02, -9.07895807e-03, -4.53730226e-01,\n",
       "        4.92073223e-02, -7.66849294e-02,  1.33436024e-02, -1.25469342e-01,\n",
       "        7.64337704e-02, -8.05314705e-02,  4.13448513e-01, -2.26507008e-01,\n",
       "       -3.78976405e-01,  7.96839446e-02,  1.68397620e-01,  1.21034130e-01,\n",
       "        4.26714979e-02, -4.76180539e-02, -1.44158334e-01,  1.81263119e-01,\n",
       "        2.60061651e-01, -3.33575718e-03, -6.39340729e-02, -2.67252356e-01,\n",
       "        1.31230861e-01,  4.75626886e-02, -1.03581481e-01,  4.88742471e-01,\n",
       "        6.30286476e-03, -1.55547991e-01, -3.21225189e-02, -1.90840676e-01,\n",
       "       -2.47900531e-01, -6.45281315e-01, -6.55775145e-02,  2.92271197e-01,\n",
       "       -4.80004460e-01,  3.01873893e-01,  2.00736761e-01,  1.17224559e-01,\n",
       "        2.61331618e-01,  6.03318866e-03, -3.48552972e-01,  3.06894034e-01,\n",
       "       -2.69996002e-04,  1.57736421e-01, -6.18801974e-02, -1.34005159e-01,\n",
       "        1.08451888e-01,  3.10773924e-02,  5.22079878e-02, -2.17886806e-01],\n",
       "      dtype=float32)"
      ]
     },
     "execution_count": 98,
     "metadata": {},
     "output_type": "execute_result"
    }
   ],
   "source": [
    "model_dm.docvecs[x_test[10].tags[0]]"
   ]
  },
  {
   "cell_type": "code",
   "execution_count": 2,
   "metadata": {},
   "outputs": [],
   "source": [
    "from sklearn.datasets import load_svmlight_file, dump_svmlight_file\n",
    "train = load_svmlight_file(r'D:\\sourcecode\\ai-dataset\\aclImdb\\train\\labeledBow.feat')"
   ]
  },
  {
   "cell_type": "code",
   "execution_count": 9,
   "metadata": {},
   "outputs": [
    {
     "name": "stdout",
     "output_type": "stream",
     "text": [
      "[nltk_data] Downloading package punkt to C:\\Users\\Administrator.WIN-\n",
      "[nltk_data]     BK34KE96UOH\\AppData\\Roaming\\nltk_data...\n",
      "[nltk_data]   Unzipping tokenizers\\punkt.zip.\n"
     ]
    },
    {
     "data": {
      "text/plain": [
       "True"
      ]
     },
     "execution_count": 9,
     "metadata": {},
     "output_type": "execute_result"
    }
   ],
   "source": [
    "nltk.download('punkt')"
   ]
  }
 ],
 "metadata": {
  "anaconda-cloud": {},
  "kernelspec": {
   "display_name": "Python [conda env:py36]",
   "language": "python",
   "name": "conda-env-py36-py"
  },
  "language_info": {
   "codemirror_mode": {
    "name": "ipython",
    "version": 3
   },
   "file_extension": ".py",
   "mimetype": "text/x-python",
   "name": "python",
   "nbconvert_exporter": "python",
   "pygments_lexer": "ipython3",
   "version": "3.6.5"
  }
 },
 "nbformat": 4,
 "nbformat_minor": 2
}
